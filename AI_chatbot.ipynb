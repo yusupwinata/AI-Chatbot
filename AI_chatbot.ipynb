{
 "cells": [
  {
   "cell_type": "markdown",
   "id": "2fbef0be-74e7-4f44-b131-644c479b05a9",
   "metadata": {},
   "source": [
    "# Intermediate Chatbot"
   ]
  },
  {
   "cell_type": "markdown",
   "id": "10700a06-de14-4472-987e-ce4d5e0a4ab1",
   "metadata": {},
   "source": [
    "# Initial Setup"
   ]
  },
  {
   "cell_type": "code",
   "execution_count": 1,
   "id": "c34e4f1d-9015-409e-bc55-b5350776ac1d",
   "metadata": {},
   "outputs": [],
   "source": [
    "import os\n",
    "import gradio as gr\n",
    "from dotenv import load_dotenv\n",
    "from openai import OpenAI"
   ]
  },
  {
   "cell_type": "code",
   "execution_count": 2,
   "id": "5e31193f-a906-4822-bb74-63259db714cd",
   "metadata": {},
   "outputs": [],
   "source": [
    "# Local bot\n",
    "OLLAMA_API_KEY = \"ollama\"\n",
    "OLLAMA_BASE_URL = \"http://localhost:11434/v1\"\n",
    "ollama_api = OpenAI(api_key=OLLAMA_API_KEY, base_url=OLLAMA_BASE_URL)\n",
    "ollama_model = \"llama3.2\"\n",
    "\n",
    "# Online bot\n",
    "load_dotenv(override=True)\n",
    "OPENAI_API_KEY = os.getenv(\"OPENAI_API_KEY\", \"type-your-api-key-here\")\n",
    "gpt_api = OpenAI()\n",
    "gpt_model = \"gpt-4o-mini\""
   ]
  },
  {
   "cell_type": "markdown",
   "id": "0dd024a2-e6e4-4fa4-9762-43ac565f37c7",
   "metadata": {},
   "source": [
    "# Prompting\n",
    "\n",
    "Adding facts, tone/style, and example to system prompt."
   ]
  },
  {
   "cell_type": "code",
   "execution_count": 3,
   "id": "eb5a4b2d-b919-4618-8fbb-db9590e2d2c6",
   "metadata": {},
   "outputs": [],
   "source": [
    "system_message = \"You are a very helpful and friendly assistant in the Kampus Merdeka program. You encourage students to apply for the program. \\\n",
    "Especially  Magang MSIB and Studi Independen. For example, if a student wants to apply, \\\n",
    "you can reply something like, 'Great - we have a variety of programs - including some that might fit your educational background'. \\\n",
    "Assist and encourage the student to apply if they are unsure which program to take. \\\n",
    "If the student's college is under the Kementerian Agama, politely explain that they cannot apply.\""
   ]
  },
  {
   "cell_type": "code",
   "execution_count": 4,
   "id": "2fbaef4b-cb91-4cdf-b09a-5825c4f7a4e6",
   "metadata": {},
   "outputs": [],
   "source": [
    "def chat(message, history):\n",
    "    \"\"\"Gradio dedicated function for chatbot\"\"\"\n",
    "\n",
    "    updated_system_message = system_message\n",
    "\n",
    "    # Nano version of RAG\n",
    "    if \"link\" in message:\n",
    "        if not \"link\" in updated_system_message:\n",
    "            updated_system_message += \"If you are asked for a link to apply a program, direct the student to create an account first and apply here https://kampusmerdeka.kemdikbud.go.id/.\"\n",
    "    \n",
    "    messages = [{\"role\": \"system\", \"content\": updated_system_message}] + history + [{\"role\": \"user\", \"content\": message}]\n",
    "\n",
    "    stream = ollama_api.chat.completions.create(\n",
    "        model=ollama_model,\n",
    "        messages=messages,\n",
    "        stream=True,\n",
    "        temperature=0.7\n",
    "    )\n",
    "\n",
    "    result = \"\"\n",
    "    for chunk in stream:\n",
    "        result += chunk.choices[0].delta.content or \"\"\n",
    "        yield result"
   ]
  },
  {
   "cell_type": "markdown",
   "id": "6ea4e92f-d915-45fb-8a03-6b35cc143d1a",
   "metadata": {},
   "source": [
    "# UI"
   ]
  },
  {
   "cell_type": "code",
   "execution_count": 5,
   "id": "f765bc6c-6767-4eb0-bd00-30b00cbb2734",
   "metadata": {},
   "outputs": [
    {
     "name": "stdout",
     "output_type": "stream",
     "text": [
      "* Running on local URL:  http://127.0.0.1:7861\n",
      "\n",
      "To create a public link, set `share=True` in `launch()`.\n"
     ]
    },
    {
     "data": {
      "text/html": [
       "<div><iframe src=\"http://127.0.0.1:7861/\" width=\"100%\" height=\"500\" allow=\"autoplay; camera; microphone; clipboard-read; clipboard-write;\" frameborder=\"0\" allowfullscreen></iframe></div>"
      ],
      "text/plain": [
       "<IPython.core.display.HTML object>"
      ]
     },
     "metadata": {},
     "output_type": "display_data"
    },
    {
     "data": {
      "text/plain": []
     },
     "execution_count": 5,
     "metadata": {},
     "output_type": "execute_result"
    }
   ],
   "source": [
    "gr.ChatInterface(fn=chat, type=\"messages\").launch()"
   ]
  },
  {
   "cell_type": "code",
   "execution_count": null,
   "id": "761fa60d-9f21-4148-89e0-9ffd4412ef75",
   "metadata": {},
   "outputs": [],
   "source": []
  }
 ],
 "metadata": {
  "kernelspec": {
   "display_name": "llms",
   "language": "python",
   "name": "llms"
  },
  "language_info": {
   "codemirror_mode": {
    "name": "ipython",
    "version": 3
   },
   "file_extension": ".py",
   "mimetype": "text/x-python",
   "name": "python",
   "nbconvert_exporter": "python",
   "pygments_lexer": "ipython3",
   "version": "3.11.12"
  }
 },
 "nbformat": 4,
 "nbformat_minor": 5
}
