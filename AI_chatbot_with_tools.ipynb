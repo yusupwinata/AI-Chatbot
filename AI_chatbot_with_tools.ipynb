{
 "cells": [
  {
   "cell_type": "markdown",
   "id": "34c527f3-90c6-4c33-9710-f409aa8a0795",
   "metadata": {},
   "source": [
    "# Initial Setup"
   ]
  },
  {
   "cell_type": "code",
   "execution_count": 1,
   "id": "c899653c-f0c9-4596-9835-df67a2f6af79",
   "metadata": {},
   "outputs": [],
   "source": [
    "import os\n",
    "import json\n",
    "import logging\n",
    "import gradio as gr\n",
    "from dotenv import load_dotenv\n",
    "from openai import OpenAI\n",
    "\n",
    "logger = logging.getLogger()\n",
    "fhandler = logging.FileHandler(filename=\"chatbot_tools.log\", mode=\"a\")\n",
    "formatter = logging.Formatter('%(asctime)s - %(name)s - %(levelname)s - %(message)s')\n",
    "fhandler.setFormatter(formatter)\n",
    "logger.addHandler(fhandler)\n",
    "logger.setLevel(logging.DEBUG)"
   ]
  },
  {
   "cell_type": "code",
   "execution_count": 2,
   "id": "6f6bc522-c733-43ed-9ae2-edc66402b025",
   "metadata": {},
   "outputs": [],
   "source": [
    "# Local bot\n",
    "OLLAMA_API_KEY = \"ollama\"\n",
    "OLLAMA_BASE_URL = \"http://localhost:11434/v1\"\n",
    "ollama_client = OpenAI(api_key=OLLAMA_API_KEY, base_url=OLLAMA_BASE_URL)\n",
    "ollama_model = \"llama3.2\"\n",
    "\n",
    "# Online bot\n",
    "load_dotenv(override=True)\n",
    "GOOGLE_API_KEY = os.getenv(\"GOOGLE_API_KEY\", \"type-your-api-here\")\n",
    "GOOGLE_BASE_URL = \"https://generativelanguage.googleapis.com/v1beta/openai/\"\n",
    "gemini_client = OpenAI(api_key=GOOGLE_API_KEY, base_url=GOOGLE_BASE_URL)\n",
    "gemini_model = \"gemini-2.0-flash\"\n",
    "\n",
    "OPENAI_API_KEY = os.getenv(\"OPENAI_API_KEY\", \"type-your-api-here\")\n",
    "gpt_client = OpenAI()\n",
    "gpt_model = \"gpt-4o-mini\""
   ]
  },
  {
   "cell_type": "markdown",
   "id": "d86f27a4-c642-4e51-8819-dafa3dba1046",
   "metadata": {},
   "source": [
    "# Chatbot Tool(s)"
   ]
  },
  {
   "cell_type": "code",
   "execution_count": 3,
   "id": "576889e6-cad7-4119-8d4b-1167833272c9",
   "metadata": {},
   "outputs": [],
   "source": [
    "# Toy dataset\n",
    "ticket_prices = {\n",
    "    \"batam\": \"Rp1.932.020\",\n",
    "    \"bali\": \"Rp1.114.920\",\n",
    "    \"gorontalo\": \"2.065.320\",\n",
    "    \"lampung\": \"Rp595.700\"\n",
    "}\n",
    "\n",
    "def get_ticket_price(destination_city):\n",
    "    print(f\"Tool get_ticket_price called for {destination_city}\")\n",
    "    logging.debug(f\"Tool get_ticket_price called for {destination_city}\")\n",
    "    city = destination_city.lower()\n",
    "    return ticket_prices.get(city, \"Unknown\")"
   ]
  },
  {
   "cell_type": "markdown",
   "id": "e69c0365-7ede-4980-85d9-8fbd034e5429",
   "metadata": {},
   "source": [
    "## Putting Tool(s) into UI"
   ]
  },
  {
   "cell_type": "code",
   "execution_count": 4,
   "id": "539a4bc6-531b-4a02-8995-f19a8c4ff7c9",
   "metadata": {},
   "outputs": [],
   "source": [
    "# 1. Create required dict structure, description should be in plain English\n",
    "get_ticket_price_function = {\n",
    "    \"name\": \"get_ticket_price\",\n",
    "    \"description\": \"Get the price of a return ticket to the destination city. Call this whenever you need to know the ticket price, for example when a customer asks 'How much is a ticket to this city'\",\n",
    "    \"parameters\": {\n",
    "        \"type\": \"object\",\n",
    "        \"properties\": {\n",
    "            \"destination_city\": {\n",
    "                \"type\": \"string\",\n",
    "                \"description\": \"The city that the customer wants to travel to\"\n",
    "            }\n",
    "        },\n",
    "        \"required\": [\"destination_city\"],\n",
    "        \"additionalProperties\": False\n",
    "    }\n",
    "}"
   ]
  },
  {
   "cell_type": "code",
   "execution_count": 5,
   "id": "f26011ff-77d1-455b-8722-b65fccc7473e",
   "metadata": {},
   "outputs": [],
   "source": [
    "# 2. Create a list of Tools for OpenAI API\n",
    "tools = [{\"type\": \"function\", \"function\": get_ticket_price_function}]"
   ]
  },
  {
   "cell_type": "markdown",
   "id": "dc1fb76c-1366-4b2b-9442-6a4563584107",
   "metadata": {},
   "source": [
    "# Prompting"
   ]
  },
  {
   "cell_type": "code",
   "execution_count": 6,
   "id": "d359cc2a-3c40-46e7-ae3f-1523fc76c294",
   "metadata": {},
   "outputs": [],
   "source": [
    "# Unpack tools request and decide which tools to use\n",
    "def handle_tool_call(message):\n",
    "    tool_call = message.tool_calls[0]\n",
    "    logging.debug(f\"Tool call: {tool_call}\")\n",
    "    \n",
    "    arguments = json.loads(tool_call.function.arguments)\n",
    "    destination_city = arguments.get('destination_city')\n",
    "    price = get_ticket_price(destination_city)\n",
    "    \n",
    "    response = {\n",
    "        \"role\": \"tool\",\n",
    "        \"content\": json.dumps({\"destination_city\": destination_city, \"price\": price}),\n",
    "        \"tool_call_id\": tool_call.id\n",
    "    }\n",
    "    return response, destination_city"
   ]
  },
  {
   "cell_type": "code",
   "execution_count": 7,
   "id": "ca7c775c-4247-488e-b6f4-345a4522a438",
   "metadata": {},
   "outputs": [],
   "source": [
    "system_message = \"You are a helpful assistant for an Airline called FlightAI. \"\n",
    "system_message += \"Give short, courteous answers, no more than 1 sentence. \"\n",
    "system_message += \"Always be accurate. If you don't know the answer, say so.\"\n",
    "\n",
    "def chat(message, history, client=gpt_client, model=gpt_model):\n",
    "    \"\"\"Gradio dedicated function for chatbot\"\"\"\n",
    "    messages = [{\"role\": \"system\", \"content\": system_message}] + history + [{\"role\": \"user\", \"content\": message}]\n",
    "    \n",
    "    response = client.chat.completions.create(\n",
    "        model=model,\n",
    "        messages=messages,\n",
    "        tools=tools,\n",
    "        temperature=0.3\n",
    "    )\n",
    "\n",
    "    if response.choices[0].finish_reason == \"tool_calls\":\n",
    "        message = response.choices[0].message\n",
    "        response, destination_city = handle_tool_call(message) # unpack tools request messages\n",
    "        messages.append(message)\n",
    "        messages.append(response)\n",
    "        response = client.chat.completions.create(model=model, messages=messages, temperature=0.3) # sending back messages to gpt\n",
    "    \n",
    "    return response.choices[0].message.content"
   ]
  },
  {
   "cell_type": "markdown",
   "id": "80d10c4b-c1c1-4be5-ae3d-61492e38f613",
   "metadata": {},
   "source": [
    "# UI"
   ]
  },
  {
   "cell_type": "code",
   "execution_count": 8,
   "id": "06fd3b29-8fd6-40d3-8727-336fc4e4698d",
   "metadata": {},
   "outputs": [
    {
     "name": "stdout",
     "output_type": "stream",
     "text": [
      "* Running on local URL:  http://127.0.0.1:7860\n",
      "\n",
      "To create a public link, set `share=True` in `launch()`.\n"
     ]
    },
    {
     "data": {
      "text/html": [
       "<div><iframe src=\"http://127.0.0.1:7860/\" width=\"100%\" height=\"500\" allow=\"autoplay; camera; microphone; clipboard-read; clipboard-write;\" frameborder=\"0\" allowfullscreen></iframe></div>"
      ],
      "text/plain": [
       "<IPython.core.display.HTML object>"
      ]
     },
     "metadata": {},
     "output_type": "display_data"
    },
    {
     "data": {
      "text/plain": []
     },
     "execution_count": 8,
     "metadata": {},
     "output_type": "execute_result"
    }
   ],
   "source": [
    "gr.ChatInterface(fn=chat, type=\"messages\").launch()"
   ]
  },
  {
   "cell_type": "code",
   "execution_count": null,
   "id": "97dc9279-45b6-4548-9eff-37cb2c28b94e",
   "metadata": {},
   "outputs": [],
   "source": []
  }
 ],
 "metadata": {
  "kernelspec": {
   "display_name": "llms",
   "language": "python",
   "name": "llms"
  },
  "language_info": {
   "codemirror_mode": {
    "name": "ipython",
    "version": 3
   },
   "file_extension": ".py",
   "mimetype": "text/x-python",
   "name": "python",
   "nbconvert_exporter": "python",
   "pygments_lexer": "ipython3",
   "version": "3.11.12"
  }
 },
 "nbformat": 4,
 "nbformat_minor": 5
}
